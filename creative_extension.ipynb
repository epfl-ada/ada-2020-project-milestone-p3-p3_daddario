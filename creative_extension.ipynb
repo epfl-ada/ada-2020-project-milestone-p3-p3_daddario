{
 "cells": [
  {
   "cell_type": "code",
   "execution_count": 1,
   "metadata": {},
   "outputs": [],
   "source": [
    "import pandas as pd\n",
    "import numpy as np\n",
    "import networkx as nx\n",
    "from datetime import datetime\n",
    "import matplotlib.pyplot as plt\n",
    "from random import random\n",
    "import warnings"
   ]
  },
  {
   "cell_type": "code",
   "execution_count": 2,
   "metadata": {},
   "outputs": [],
   "source": [
    "# Data reading\n",
    "DATA_FOLDER = \"Data/\"\n",
    "\n",
    "epinions = pd.read_table(DATA_FOLDER + 'soc-sign-epinions.txt', \n",
    "                         names=['Source','Target','Weight'],comment='#',header=None).rename_axis('Epinions',axis=1)\n",
    "slashdot = pd.read_table(DATA_FOLDER + 'soc-sign-Slashdot090221.txt', \n",
    "                         names=['Source','Target','Weight'],comment='#',header=None).rename_axis('Slashdot',axis=1)\n",
    "wikielec = pd.read_csv(DATA_FOLDER + 'wikipedia.csv').rename_axis('Wikipedia',axis=1)"
   ]
  },
  {
   "cell_type": "code",
   "execution_count": 3,
   "metadata": {},
   "outputs": [
    {
     "data": {
      "text/html": [
       "<div>\n",
       "<style scoped>\n",
       "    .dataframe tbody tr th:only-of-type {\n",
       "        vertical-align: middle;\n",
       "    }\n",
       "\n",
       "    .dataframe tbody tr th {\n",
       "        vertical-align: top;\n",
       "    }\n",
       "\n",
       "    .dataframe thead th {\n",
       "        text-align: right;\n",
       "    }\n",
       "</style>\n",
       "<table border=\"1\" class=\"dataframe\">\n",
       "  <thead>\n",
       "    <tr style=\"text-align: right;\">\n",
       "      <th>Epinions</th>\n",
       "      <th>Source</th>\n",
       "      <th>Target</th>\n",
       "      <th>Weight</th>\n",
       "    </tr>\n",
       "  </thead>\n",
       "  <tbody>\n",
       "    <tr>\n",
       "      <th>0</th>\n",
       "      <td>0</td>\n",
       "      <td>1</td>\n",
       "      <td>-1</td>\n",
       "    </tr>\n",
       "    <tr>\n",
       "      <th>1</th>\n",
       "      <td>1</td>\n",
       "      <td>128552</td>\n",
       "      <td>-1</td>\n",
       "    </tr>\n",
       "    <tr>\n",
       "      <th>2</th>\n",
       "      <td>2</td>\n",
       "      <td>3</td>\n",
       "      <td>1</td>\n",
       "    </tr>\n",
       "    <tr>\n",
       "      <th>3</th>\n",
       "      <td>4</td>\n",
       "      <td>5</td>\n",
       "      <td>-1</td>\n",
       "    </tr>\n",
       "    <tr>\n",
       "      <th>4</th>\n",
       "      <td>4</td>\n",
       "      <td>155</td>\n",
       "      <td>-1</td>\n",
       "    </tr>\n",
       "  </tbody>\n",
       "</table>\n",
       "</div>"
      ],
      "text/plain": [
       "Epinions  Source  Target  Weight\n",
       "0              0       1      -1\n",
       "1              1  128552      -1\n",
       "2              2       3       1\n",
       "3              4       5      -1\n",
       "4              4     155      -1"
      ]
     },
     "metadata": {},
     "output_type": "display_data"
    },
    {
     "data": {
      "text/html": [
       "<div>\n",
       "<style scoped>\n",
       "    .dataframe tbody tr th:only-of-type {\n",
       "        vertical-align: middle;\n",
       "    }\n",
       "\n",
       "    .dataframe tbody tr th {\n",
       "        vertical-align: top;\n",
       "    }\n",
       "\n",
       "    .dataframe thead th {\n",
       "        text-align: right;\n",
       "    }\n",
       "</style>\n",
       "<table border=\"1\" class=\"dataframe\">\n",
       "  <thead>\n",
       "    <tr style=\"text-align: right;\">\n",
       "      <th>Slashdot</th>\n",
       "      <th>Source</th>\n",
       "      <th>Target</th>\n",
       "      <th>Weight</th>\n",
       "    </tr>\n",
       "  </thead>\n",
       "  <tbody>\n",
       "    <tr>\n",
       "      <th>0</th>\n",
       "      <td>0</td>\n",
       "      <td>1</td>\n",
       "      <td>1</td>\n",
       "    </tr>\n",
       "    <tr>\n",
       "      <th>1</th>\n",
       "      <td>0</td>\n",
       "      <td>2</td>\n",
       "      <td>1</td>\n",
       "    </tr>\n",
       "    <tr>\n",
       "      <th>2</th>\n",
       "      <td>0</td>\n",
       "      <td>3</td>\n",
       "      <td>1</td>\n",
       "    </tr>\n",
       "    <tr>\n",
       "      <th>3</th>\n",
       "      <td>0</td>\n",
       "      <td>4</td>\n",
       "      <td>1</td>\n",
       "    </tr>\n",
       "    <tr>\n",
       "      <th>4</th>\n",
       "      <td>0</td>\n",
       "      <td>5</td>\n",
       "      <td>1</td>\n",
       "    </tr>\n",
       "  </tbody>\n",
       "</table>\n",
       "</div>"
      ],
      "text/plain": [
       "Slashdot  Source  Target  Weight\n",
       "0              0       1       1\n",
       "1              0       2       1\n",
       "2              0       3       1\n",
       "3              0       4       1\n",
       "4              0       5       1"
      ]
     },
     "metadata": {},
     "output_type": "display_data"
    },
    {
     "data": {
      "text/html": [
       "<div>\n",
       "<style scoped>\n",
       "    .dataframe tbody tr th:only-of-type {\n",
       "        vertical-align: middle;\n",
       "    }\n",
       "\n",
       "    .dataframe tbody tr th {\n",
       "        vertical-align: top;\n",
       "    }\n",
       "\n",
       "    .dataframe thead th {\n",
       "        text-align: right;\n",
       "    }\n",
       "</style>\n",
       "<table border=\"1\" class=\"dataframe\">\n",
       "  <thead>\n",
       "    <tr style=\"text-align: right;\">\n",
       "      <th>Wikipedia</th>\n",
       "      <th>Source</th>\n",
       "      <th>Target</th>\n",
       "      <th>Weight</th>\n",
       "    </tr>\n",
       "  </thead>\n",
       "  <tbody>\n",
       "    <tr>\n",
       "      <th>0</th>\n",
       "      <td>3</td>\n",
       "      <td>30</td>\n",
       "      <td>1</td>\n",
       "    </tr>\n",
       "    <tr>\n",
       "      <th>1</th>\n",
       "      <td>25</td>\n",
       "      <td>30</td>\n",
       "      <td>-1</td>\n",
       "    </tr>\n",
       "    <tr>\n",
       "      <th>2</th>\n",
       "      <td>4</td>\n",
       "      <td>30</td>\n",
       "      <td>1</td>\n",
       "    </tr>\n",
       "    <tr>\n",
       "      <th>3</th>\n",
       "      <td>5</td>\n",
       "      <td>30</td>\n",
       "      <td>1</td>\n",
       "    </tr>\n",
       "    <tr>\n",
       "      <th>4</th>\n",
       "      <td>6</td>\n",
       "      <td>30</td>\n",
       "      <td>1</td>\n",
       "    </tr>\n",
       "  </tbody>\n",
       "</table>\n",
       "</div>"
      ],
      "text/plain": [
       "Wikipedia  Source  Target  Weight\n",
       "0               3      30       1\n",
       "1              25      30      -1\n",
       "2               4      30       1\n",
       "3               5      30       1\n",
       "4               6      30       1"
      ]
     },
     "metadata": {},
     "output_type": "display_data"
    }
   ],
   "source": [
    "# Display of the same structures datasets\n",
    "display(epinions.head())\n",
    "display(slashdot.head())\n",
    "display(wikielec.head())"
   ]
  },
  {
   "cell_type": "markdown",
   "metadata": {},
   "source": [
    "# PAUL"
   ]
  },
  {
   "cell_type": "code",
   "execution_count": 30,
   "metadata": {},
   "outputs": [],
   "source": [
    "def weighted_average_predict(dataframe, alpha):\n",
    "    G = nx.from_pandas_edgelist(dataframe, source=\"Source\", target=\"Target\", \n",
    "                                edge_attr=[\"Weight\"], create_using=nx.DiGraph())\n",
    "\n",
    "    for e in G.edges:\n",
    "        G.edges[e]['Modified Weight'] = (1-alpha) if G.edges[e]['Weight'] > 0 else -alpha\n",
    "\n",
    "    for node in G.nodes:\n",
    "        out_edges_weight = [G.get_edge_data(*e)['Modified Weight'] for e in G.out_edges(node)]\n",
    "        in_edges_weight  = [G.get_edge_data(*e)['Modified Weight'] for e in G.in_edges(node)]\n",
    "        G.nodes[node][\"Source score\"] = np.mean(out_edges_weight) if len(out_edges_weight) > 0 else np.nan\n",
    "        G.nodes[node][\"Target score\"] = np.mean(in_edges_weight)  if len(in_edges_weight)  > 0 else np.nan\n",
    "\n",
    "\n",
    "    for e in G.edges:\n",
    "        s = G.nodes[e[0]]['Source score']\n",
    "        t = G.nodes[e[1]]['Target score']\n",
    "        if np.isnan(s) or np.isnan(t):\n",
    "            raise ValueError(\"nan cannot exist\")\n",
    "\n",
    "        if s*t > 0:\n",
    "            if s > 0:\n",
    "                G.edges[e][\"Predict\"] = 1\n",
    "            else:\n",
    "                G.edges[e][\"Predict\"] = -1\n",
    "\n",
    "        elif s*t < 0:\n",
    "            if s > 0:\n",
    "                if s > abs(t):\n",
    "                    G.edges[e][\"Predict\"] = 1\n",
    "                elif s < abs(t):\n",
    "                    G.edges[e][\"Predict\"] = -1\n",
    "                else:\n",
    "                    G.edges[e][\"Predict\"] = (1 if random() < 0.5 else -1)\n",
    "            else:\n",
    "                if abs(s) > t:\n",
    "                    G.edges[e][\"Predict\"] = -1\n",
    "                elif abs(s) < t:\n",
    "                    G.edges[e][\"Predict\"] = 1\n",
    "                else:\n",
    "                    G.edges[e][\"Predict\"] = (1 if random() < 0.5 else -1)\n",
    "\n",
    "        else:\n",
    "            if s + t > 0:\n",
    "                G.edges[e][\"Predict\"] = 1\n",
    "            elif s + t < 0:\n",
    "                G.edges[e][\"Predict\"] = -1\n",
    "            else:\n",
    "                G.edges[e][\"Predict\"] = (1 if random() < 0.5 else -1)\n",
    "\n",
    "    TP = TN = FP = FN = 0\n",
    "    for e in G.edges:\n",
    "        if G.edges[e]['Weight'] == G.edges[e]['Predict']:\n",
    "            if G.edges[e]['Weight'] > 0:\n",
    "                TP += 1\n",
    "            else:\n",
    "                TN += 1\n",
    "        else:\n",
    "            if G.edges[e]['Predict'] > 0:\n",
    "                FP += 1\n",
    "            else:\n",
    "                FN += 1\n",
    "    \n",
    "    precision_pos = TP/(TP+FP)\n",
    "    recall_pos    = TP/(TP+FN)\n",
    "    precision_neg = TN/(TN+FN)\n",
    "    recall_neg    = TN/(TN+FP)\n",
    "    F_score_pos = (2*precision_pos*recall_pos/(precision_pos + recall_pos)) if precision_pos + recall_pos != 0 else 0\n",
    "    F_score_neg = (2*precision_neg*recall_neg/(precision_neg + recall_neg)) if precision_neg + recall_neg != 0 else 0\n",
    "    Youden = F_score_pos + F_score_neg - 1\n",
    "    \n",
    "    print(\"TP: %d\\nTN: %d\\nFP: %d\\nFN: %d\\n\"%(TP, TN, FP, FN))\n",
    "    print(\"Precision on positive: %.3f\"% precision_pos)\n",
    "    print(\"Recall on positive: %.3f\"% recall_pos)\n",
    "    print(\"Precision on negative: %.3f\"% precision_neg)\n",
    "    print(\"Recall on negative: %.3f\\n\"% recall_neg)\n",
    "    print(\"F1 score on positive: %.3f\"  % F_score_pos)\n",
    "    print(\"F1 score on negative: %.3f\\n\"% F_score_neg)\n",
    "    print(\"Accuracy: %.3f\"%((TP+TN)/(TP+TN+FP+FN)))\n",
    "    print(\"Youden's J statistic: %.3f\" %Youden)\n",
    "    \n",
    "    return Youden"
   ]
  },
  {
   "cell_type": "code",
   "execution_count": 31,
   "metadata": {},
   "outputs": [
    {
     "name": "stdout",
     "output_type": "stream",
     "text": [
      "TP: 704151\n",
      "TN: 101582\n",
      "FP: 22123\n",
      "FN: 13516\n",
      "\n",
      "Precision on positive: 0.970\n",
      "Recall on positive: 0.981\n",
      "Precision on negative: 0.883\n",
      "Recall on negative: 0.821\n",
      "\n",
      "F1 score on positive: 0.975\n",
      "F1 score on negative: 0.851\n",
      "\n",
      "Accuracy: 0.958\n",
      "Youden's J statistic: 0.826\n"
     ]
    },
    {
     "data": {
      "text/plain": [
       "0.8260780749378489"
      ]
     },
     "execution_count": 31,
     "metadata": {},
     "output_type": "execute_result"
    }
   ],
   "source": [
    "weighted_average_predict(epinions, 0.63)"
   ]
  },
  {
   "cell_type": "code",
   "execution_count": 32,
   "metadata": {},
   "outputs": [
    {
     "name": "stdout",
     "output_type": "stream",
     "text": [
      "TP: 397498\n",
      "TN: 95929\n",
      "FP: 28201\n",
      "FN: 27574\n",
      "\n",
      "Precision on positive: 0.934\n",
      "Recall on positive: 0.935\n",
      "Precision on negative: 0.777\n",
      "Recall on negative: 0.773\n",
      "\n",
      "F1 score on positive: 0.934\n",
      "F1 score on negative: 0.775\n",
      "\n",
      "Accuracy: 0.898\n",
      "Youden's J statistic: 0.709\n"
     ]
    },
    {
     "data": {
      "text/plain": [
       "0.7092093167460303"
      ]
     },
     "execution_count": 32,
     "metadata": {},
     "output_type": "execute_result"
    }
   ],
   "source": [
    "weighted_average_predict(slashdot, 0.63)"
   ]
  },
  {
   "cell_type": "code",
   "execution_count": 33,
   "metadata": {},
   "outputs": [
    {
     "name": "stdout",
     "output_type": "stream",
     "text": [
      "TP: 76660\n",
      "TN: 15677\n",
      "FP: 6332\n",
      "FN: 5078\n",
      "\n",
      "Precision on positive: 0.924\n",
      "Recall on positive: 0.938\n",
      "Precision on negative: 0.755\n",
      "Recall on negative: 0.712\n",
      "\n",
      "F1 score on positive: 0.931\n",
      "F1 score on negative: 0.733\n",
      "\n",
      "Accuracy: 0.890\n",
      "Youden's J statistic: 0.664\n"
     ]
    },
    {
     "data": {
      "text/plain": [
       "0.6639219349834695"
      ]
     },
     "execution_count": 33,
     "metadata": {},
     "output_type": "execute_result"
    }
   ],
   "source": [
    "weighted_average_predict(wikielec, 0.66)"
   ]
  },
  {
   "cell_type": "markdown",
   "metadata": {},
   "source": [
    "alpha = 0 finds the percentage of positives"
   ]
  },
  {
   "cell_type": "code",
   "execution_count": 174,
   "metadata": {},
   "outputs": [
    {
     "name": "stdout",
     "output_type": "stream",
     "text": [
      "alpha_new: 0.5697640145520472\n",
      "Delta: 0.019764014552047127 \n",
      "\n",
      "alpha_new: 0.5740852201160805\n",
      "Delta: 0.00432120556403337 \n",
      "\n",
      "alpha_new: 0.5748827121148449\n",
      "Delta: 0.0007974919987643325 \n",
      "\n",
      "alpha_new: 0.5750433621949559\n",
      "Delta: 0.00016065008011101334 \n",
      "\n",
      "alpha_new: 0.5750853057346298\n",
      "Delta: 4.1943539673905406e-05 \n",
      "\n",
      "0.8198333433391702\n"
     ]
    }
   ],
   "source": [
    "# Gradient Descent\n",
    "delta = np.inf\n",
    "alpha_prec = 0.5\n",
    "alpha = 0.55\n",
    "gamma = 0.6\n",
    "f = 1\n",
    "while delta > 1e-4:\n",
    "    f_prec = weighted_average_predict(epinions, alpha_prec)\n",
    "    f = weighted_average_predict(epinions, alpha)\n",
    "    alpha_new = alpha + gamma*(f-f_prec)\n",
    "    delta = abs(alpha_new - alpha)\n",
    "    alpha_prec = alpha\n",
    "    alpha = alpha_new\n",
    "    print(\"alpha_new:\",alpha_new)\n",
    "    print(\"Delta:\",delta,\"\\n\")\n",
    "print(f)"
   ]
  },
  {
   "cell_type": "code",
   "execution_count": 77,
   "metadata": {},
   "outputs": [],
   "source": [
    "def lvo_weighted_average_predict(dataframe, alpha):\n",
    "    G = nx.from_pandas_edgelist(dataframe, source=\"Source\", target=\"Target\", \n",
    "                                edge_attr=[\"Weight\"], create_using=nx.DiGraph())\n",
    "    \n",
    "    for e in G.edges:\n",
    "        G.edges[e]['Modified Weight'] = (1-alpha) if G.edges[e]['Weight'] > 0 else -alpha\n",
    "\n",
    "    for e in G.edges:\n",
    "        out_edges_weight = [G.get_edge_data(*edge)['Modified Weight'] for edge in G.out_edges(e[0]) if edge != e]\n",
    "        in_edges_weight  = [G.get_edge_data(*edge)['Modified Weight'] for edge in G.in_edges(e[1])  if edge != e]\n",
    "        \n",
    "        len_out = len(out_edges_weight)\n",
    "        len_in  = len(in_edges_weight)\n",
    "        \n",
    "        if 0 == len_out == len_in:\n",
    "            G.edges[e][\"Predict\"] = (1 if random() < 0.5 else -1)\n",
    "        elif len_out == 0:\n",
    "            t = np.mean(in_edges_weight)\n",
    "            if t > 0:\n",
    "                G.edges[e][\"Predict\"] = 1\n",
    "            elif t < 0:\n",
    "                G.edges[e][\"Predict\"] = -1\n",
    "            else:\n",
    "                 G.edges[e][\"Predict\"] = (1 if random() < 0.5 else -1)\n",
    "        elif len_in == 0:\n",
    "            s = np.mean(out_edges_weight)\n",
    "            if s > 0:\n",
    "                G.edges[e][\"Predict\"] = 1\n",
    "            elif s < 0:\n",
    "                G.edges[e][\"Predict\"] = -1\n",
    "            else:\n",
    "                 G.edges[e][\"Predict\"] = (1 if random() < 0.5 else -1)\n",
    "        else:\n",
    "            s = np.mean(out_edges_weight)\n",
    "            t = np.mean(in_edges_weight)\n",
    "            if s*t > 0:\n",
    "                if s > 0:\n",
    "                    G.edges[e][\"Predict\"] = 1\n",
    "                else:\n",
    "                    G.edges[e][\"Predict\"] = -1\n",
    "\n",
    "            elif s*t < 0:\n",
    "                if s > 0:\n",
    "                    if s > abs(t):\n",
    "                        G.edges[e][\"Predict\"] = 1\n",
    "                    elif s < abs(t):\n",
    "                        G.edges[e][\"Predict\"] = -1\n",
    "                    else:\n",
    "                        G.edges[e][\"Predict\"] = (1 if random() < 0.5 else -1)\n",
    "                else:\n",
    "                    if abs(s) > t:\n",
    "                        G.edges[e][\"Predict\"] = -1\n",
    "                    elif abs(s) < t:\n",
    "                        G.edges[e][\"Predict\"] = 1\n",
    "                    else:\n",
    "                        G.edges[e][\"Predict\"] = (1 if random() < 0.5 else -1)\n",
    "\n",
    "            else:\n",
    "                if s + t > 0:\n",
    "                    G.edges[e][\"Predict\"] = 1\n",
    "                elif s + t < 0:\n",
    "                    G.edges[e][\"Predict\"] = -1\n",
    "                else:\n",
    "                    G.edges[e][\"Predict\"] = (1 if random() < 0.5 else -1)\n",
    "\n",
    "    TP = TN = FP = FN = 0\n",
    "    for e in G.edges:\n",
    "        if G.edges[e]['Weight'] == G.edges[e]['Predict']:\n",
    "            if G.edges[e]['Weight'] > 0:\n",
    "                TP += 1\n",
    "            else:\n",
    "                TN += 1\n",
    "        else:\n",
    "            if G.edges[e]['Predict'] > 0:\n",
    "                FP += 1\n",
    "            else:\n",
    "                FN += 1\n",
    "    \n",
    "    precision_pos = TP/(TP+FP)\n",
    "    recall_pos    = TP/(TP+FN)\n",
    "    precision_neg = TN/(TN+FN)\n",
    "    recall_neg    = TN/(TN+FP)\n",
    "    F_score_pos = (2*precision_pos*recall_pos/(precision_pos + recall_pos)) if precision_pos + recall_pos != 0 else 0\n",
    "    F_score_neg = (2*precision_neg*recall_neg/(precision_neg + recall_neg)) if precision_neg + recall_neg != 0 else 0\n",
    "    Youden = F_score_pos + F_score_neg - 1\n",
    "    \n",
    "    print(\"TP: %d\\nTN: %d\\nFP: %d\\nFN: %d\\n\"%(TP, TN, FP, FN))\n",
    "    print(\"Precision on positive: %.3f\"% precision_pos)\n",
    "    print(\"Recall on positive: %.3f\"% recall_pos)\n",
    "    print(\"Precision on negative: %.3f\"% precision_neg)\n",
    "    print(\"Recall on negative: %.3f\\n\"% recall_neg)\n",
    "    print(\"F1 score on positive: %.3f\"  % F_score_pos)\n",
    "    print(\"F1 score on negative: %.3f\\n\"% F_score_neg)\n",
    "    print(\"Accuracy: %.3f\"%((TP+TN)/(TP+TN+FP+FN)))\n",
    "    print(\"Youden's J statistic: %.3f\" %Youden)\n",
    "    \n",
    "    return Youden"
   ]
  },
  {
   "cell_type": "code",
   "execution_count": 74,
   "metadata": {
    "scrolled": false
   },
   "outputs": [
    {
     "name": "stdout",
     "output_type": "stream",
     "text": [
      "TP: 690224\n",
      "TN: 91555\n",
      "FP: 32150\n",
      "FN: 27443\n",
      "\n",
      "Precision on positive: 0.955\n",
      "Recall on positive: 0.962\n",
      "Precision on negative: 0.769\n",
      "Recall on negative: 0.740\n",
      "\n",
      "F1 score on positive: 0.959\n",
      "F1 score on negative: 0.754\n",
      "\n",
      "Accuracy: 0.929\n",
      "Youden's J statistic: 0.713\n"
     ]
    },
    {
     "data": {
      "text/plain": [
       "0.7130783643955632"
      ]
     },
     "execution_count": 74,
     "metadata": {},
     "output_type": "execute_result"
    }
   ],
   "source": [
    "lvo_weighted_average_predict(epinions, 0.85)"
   ]
  },
  {
   "cell_type": "code",
   "execution_count": 75,
   "metadata": {},
   "outputs": [
    {
     "name": "stdout",
     "output_type": "stream",
     "text": [
      "TP: 382272\n",
      "TN: 87730\n",
      "FP: 36400\n",
      "FN: 42800\n",
      "\n",
      "Precision on positive: 0.913\n",
      "Recall on positive: 0.899\n",
      "Precision on negative: 0.672\n",
      "Recall on negative: 0.707\n",
      "\n",
      "F1 score on positive: 0.906\n",
      "F1 score on negative: 0.689\n",
      "\n",
      "Accuracy: 0.856\n",
      "Youden's J statistic: 0.595\n"
     ]
    },
    {
     "data": {
      "text/plain": [
       "0.5951297599970591"
      ]
     },
     "execution_count": 75,
     "metadata": {},
     "output_type": "execute_result"
    }
   ],
   "source": [
    "lvo_weighted_average_predict(slashdot, 0.64)"
   ]
  },
  {
   "cell_type": "code",
   "execution_count": 74,
   "metadata": {},
   "outputs": [
    {
     "data": {
      "text/plain": [
       "-0.040000000000000015"
      ]
     },
     "execution_count": 74,
     "metadata": {},
     "output_type": "execute_result"
    }
   ],
   "source": [
    "np.mean([-0.64,0.36, -0.64 ,0.36 ,0.36])"
   ]
  },
  {
   "cell_type": "code",
   "execution_count": null,
   "metadata": {},
   "outputs": [],
   "source": [
    "[-1 1 -1 1 1] -> np.mean([-0.64 0.36 -0.64 0.36 0.36])"
   ]
  },
  {
   "cell_type": "code",
   "execution_count": 79,
   "metadata": {},
   "outputs": [
    {
     "name": "stdout",
     "output_type": "stream",
     "text": [
      "TP: 81711\n",
      "TN: 34\n",
      "FP: 21975\n",
      "FN: 27\n",
      "\n",
      "Precision on positive: 0.788\n",
      "Recall on positive: 1.000\n",
      "Precision on negative: 0.557\n",
      "Recall on negative: 0.002\n",
      "\n",
      "F1 score on positive: 0.881\n",
      "F1 score on negative: 0.003\n",
      "\n",
      "Accuracy: 0.788\n",
      "Youden's J statistic: -0.116\n"
     ]
    },
    {
     "data": {
      "text/plain": [
       "-0.11557667335511779"
      ]
     },
     "execution_count": 79,
     "metadata": {},
     "output_type": "execute_result"
    }
   ],
   "source": [
    "lvo_weighted_average_predict(wikielec, 0)"
   ]
  },
  {
   "cell_type": "code",
   "execution_count": 89,
   "metadata": {},
   "outputs": [
    {
     "data": {
      "text/html": [
       "<div>\n",
       "<style scoped>\n",
       "    .dataframe tbody tr th:only-of-type {\n",
       "        vertical-align: middle;\n",
       "    }\n",
       "\n",
       "    .dataframe tbody tr th {\n",
       "        vertical-align: top;\n",
       "    }\n",
       "\n",
       "    .dataframe thead th {\n",
       "        text-align: right;\n",
       "    }\n",
       "</style>\n",
       "<table border=\"1\" class=\"dataframe\">\n",
       "  <thead>\n",
       "    <tr style=\"text-align: right;\">\n",
       "      <th>Wikipedia</th>\n",
       "      <th>Source</th>\n",
       "      <th>Target</th>\n",
       "      <th>Weight</th>\n",
       "    </tr>\n",
       "  </thead>\n",
       "  <tbody>\n",
       "    <tr>\n",
       "      <th>32815</th>\n",
       "      <td>826</td>\n",
       "      <td>1814</td>\n",
       "      <td>1</td>\n",
       "    </tr>\n",
       "    <tr>\n",
       "      <th>81346</th>\n",
       "      <td>457</td>\n",
       "      <td>6170</td>\n",
       "      <td>1</td>\n",
       "    </tr>\n",
       "    <tr>\n",
       "      <th>15466</th>\n",
       "      <td>1483</td>\n",
       "      <td>1791</td>\n",
       "      <td>1</td>\n",
       "    </tr>\n",
       "    <tr>\n",
       "      <th>54215</th>\n",
       "      <td>1542</td>\n",
       "      <td>4661</td>\n",
       "      <td>1</td>\n",
       "    </tr>\n",
       "    <tr>\n",
       "      <th>64508</th>\n",
       "      <td>1097</td>\n",
       "      <td>5452</td>\n",
       "      <td>1</td>\n",
       "    </tr>\n",
       "    <tr>\n",
       "      <th>48511</th>\n",
       "      <td>2174</td>\n",
       "      <td>4269</td>\n",
       "      <td>1</td>\n",
       "    </tr>\n",
       "    <tr>\n",
       "      <th>18890</th>\n",
       "      <td>231</td>\n",
       "      <td>2097</td>\n",
       "      <td>1</td>\n",
       "    </tr>\n",
       "    <tr>\n",
       "      <th>80854</th>\n",
       "      <td>4967</td>\n",
       "      <td>6682</td>\n",
       "      <td>-1</td>\n",
       "    </tr>\n",
       "    <tr>\n",
       "      <th>17489</th>\n",
       "      <td>1352</td>\n",
       "      <td>1973</td>\n",
       "      <td>1</td>\n",
       "    </tr>\n",
       "    <tr>\n",
       "      <th>44336</th>\n",
       "      <td>3643</td>\n",
       "      <td>3800</td>\n",
       "      <td>1</td>\n",
       "    </tr>\n",
       "  </tbody>\n",
       "</table>\n",
       "</div>"
      ],
      "text/plain": [
       "Wikipedia  Source  Target  Weight\n",
       "32815         826    1814       1\n",
       "81346         457    6170       1\n",
       "15466        1483    1791       1\n",
       "54215        1542    4661       1\n",
       "64508        1097    5452       1\n",
       "48511        2174    4269       1\n",
       "18890         231    2097       1\n",
       "80854        4967    6682      -1\n",
       "17489        1352    1973       1\n",
       "44336        3643    3800       1"
      ]
     },
     "execution_count": 89,
     "metadata": {},
     "output_type": "execute_result"
    }
   ],
   "source": [
    "wikielec.sample(10)"
   ]
  },
  {
   "cell_type": "code",
   "execution_count": 64,
   "metadata": {},
   "outputs": [],
   "source": [
    "def wpo_weighted_average_predict(dataframe, alpha, test_percent):\n",
    "    \n",
    "    df = dataframe.copy()\n",
    "    df.loc[df.sample(round(test_percent*df.shape[0])).index,\"Weight\"] = np.nan\n",
    "\n",
    "    G = nx.from_pandas_edgelist(dataframe, source=\"Source\", target=\"Target\", \n",
    "                                edge_attr=[\"Weight\"], create_using=nx.DiGraph())\n",
    "    \n",
    "    G_unknown = nx.from_pandas_edgelist(df[df[\"Weight\"].isnull()].copy(), source=\"Source\", target=\"Target\", \n",
    "                                edge_attr=[\"Weight\"], create_using=nx.DiGraph())\n",
    "\n",
    "    for e in G.edges:\n",
    "        G.edges[e]['Modified Weight'] = (1-alpha) if G.edges[e]['Weight'] > 0 else -alpha\n",
    "        \n",
    "    for node in G_unknown.nodes:\n",
    "        out_edges_weight = [G.get_edge_data(*e)['Modified Weight'] for e in G.out_edges(node)]\n",
    "        in_edges_weight  = [G.get_edge_data(*e)['Modified Weight'] for e in G.in_edges(node)]\n",
    "        with warnings.catch_warnings():\n",
    "            warnings.simplefilter(\"ignore\", category=RuntimeWarning)\n",
    "            G.nodes[node][\"Source score\"] = np.nanmean(out_edges_weight)\n",
    "            G.nodes[node][\"Target score\"] = np.nanmean(in_edges_weight)\n",
    "    n = 0\n",
    "    for e in G_unknown.edges:\n",
    "        s = G.nodes[e[0]]['Source score']\n",
    "        t = G.nodes[e[1]]['Target score']\n",
    "        if np.nan == s == t:\n",
    "            G.edges[e][\"Predict\"] = (1 if random() < 0.5 else -1)\n",
    "            n+=1\n",
    "        elif s == np.nan:\n",
    "            if t > 0:\n",
    "                G.edges[e][\"Predict\"] = 1\n",
    "            elif t < 0:\n",
    "                G.edges[e][\"Predict\"] = -1\n",
    "            else:\n",
    "                G.edges[e][\"Predict\"] = (1 if random() < 0.5 else -1)\n",
    "                n+=1\n",
    "        elif t == np.nan:\n",
    "            if s > 0:\n",
    "                G.edges[e][\"Predict\"] = 1\n",
    "            elif s < 0:\n",
    "                G.edges[e][\"Predict\"] = -1\n",
    "            else:\n",
    "                G.edges[e][\"Predict\"] = (1 if random() < 0.5 else -1)\n",
    "                n+=1\n",
    "        else:\n",
    "            if s*t > 0:\n",
    "                if s > 0:\n",
    "                    G.edges[e][\"Predict\"] = 1\n",
    "                else:\n",
    "                    G.edges[e][\"Predict\"] = -1\n",
    "\n",
    "            elif s*t < 0:\n",
    "                if s > 0:\n",
    "                    if s > abs(t):\n",
    "                        G.edges[e][\"Predict\"] = 1\n",
    "                    elif s < abs(t):\n",
    "                        G.edges[e][\"Predict\"] = -1\n",
    "                    else:\n",
    "                        G.edges[e][\"Predict\"] = (1 if random() < 0.5 else -1)\n",
    "                        n+=1\n",
    "                else:\n",
    "                    if abs(s) > t:\n",
    "                        G.edges[e][\"Predict\"] = -1\n",
    "                    elif abs(s) < t:\n",
    "                        G.edges[e][\"Predict\"] = 1\n",
    "                    else:\n",
    "                        G.edges[e][\"Predict\"] = (1 if random() < 0.5 else -1)\n",
    "                        n+=1\n",
    "            else:\n",
    "                if s + t > 0:\n",
    "                    G.edges[e][\"Predict\"] = 1\n",
    "                elif s + t < 0:\n",
    "                    G.edges[e][\"Predict\"] = -1\n",
    "                else:\n",
    "                    G.edges[e][\"Predict\"] = (1 if random() < 0.5 else -1)\n",
    "                    n+=1\n",
    "\n",
    "    TP = TN = FP = FN = 0\n",
    "    for e in G_unknown.edges:\n",
    "        if G.edges[e]['Weight'] == G.edges[e]['Predict']:\n",
    "            if G.edges[e]['Weight'] > 0:\n",
    "                TP += 1\n",
    "            else:\n",
    "                TN += 1\n",
    "        else:\n",
    "            if G.edges[e]['Predict'] > 0:\n",
    "                FP += 1\n",
    "            else:\n",
    "                FN += 1\n",
    "    \n",
    "    print(n)\n",
    "    precision_pos = TP/(TP+FP)\n",
    "    recall_pos    = TP/(TP+FN)\n",
    "    precision_neg = TN/(TN+FN)\n",
    "    recall_neg    = TN/(TN+FP)\n",
    "    F_score_pos = (2*precision_pos*recall_pos/(precision_pos + recall_pos)) if precision_pos + recall_pos != 0 else 0\n",
    "    F_score_neg = (2*precision_neg*recall_neg/(precision_neg + recall_neg)) if precision_neg + recall_neg != 0 else 0\n",
    "    Youden = F_score_pos + F_score_neg - 1\n",
    "    \n",
    "    print(\"TP: %d\\nTN: %d\\nFP: %d\\nFN: %d\\n\"%(TP, TN, FP, FN))\n",
    "    print(\"Precision on positive: %.3f\"% precision_pos)\n",
    "    print(\"Recall on positive: %.3f\"% recall_pos)\n",
    "    print(\"Precision on negative: %.3f\"% precision_neg)\n",
    "    print(\"Recall on negative: %.3f\\n\"% recall_neg)\n",
    "    print(\"F1 score on positive: %.3f\"  % F_score_pos)\n",
    "    print(\"F1 score on negative: %.3f\\n\"% F_score_neg)\n",
    "    print(\"Accuracy: %.3f\"%((TP+TN)/(TP+TN+FP+FN)))\n",
    "    print(\"Youden's J statistic: %.3f\" %Youden)\n",
    "    \n",
    "    return Youden"
   ]
  },
  {
   "cell_type": "code",
   "execution_count": 95,
   "metadata": {},
   "outputs": [
    {
     "name": "stdout",
     "output_type": "stream",
     "text": [
      "TP: 704151\n",
      "TN: 101583\n",
      "FP: 22122\n",
      "FN: 13516\n",
      "\n",
      "Precision on positive: 0.970\n",
      "Recall on positive: 0.981\n",
      "Precision on negative: 0.883\n",
      "Recall on negative: 0.821\n",
      "\n",
      "F1 score on positive: 0.975\n",
      "F1 score on negative: 0.851\n",
      "\n",
      "Accuracy: 0.958\n",
      "Youden's J statistic: 0.826\n"
     ]
    },
    {
     "data": {
      "text/plain": [
       "0.8260835628769705"
      ]
     },
     "execution_count": 95,
     "metadata": {},
     "output_type": "execute_result"
    }
   ],
   "source": [
    "wpo_weighted_average_predict(epinions, 0.63, 0.15)"
   ]
  },
  {
   "cell_type": "code",
   "execution_count": 94,
   "metadata": {},
   "outputs": [
    {
     "name": "stdout",
     "output_type": "stream",
     "text": [
      "TP: 397499\n",
      "TN: 95929\n",
      "FP: 28201\n",
      "FN: 27573\n",
      "\n",
      "Precision on positive: 0.934\n",
      "Recall on positive: 0.935\n",
      "Precision on negative: 0.777\n",
      "Recall on negative: 0.773\n",
      "\n",
      "F1 score on positive: 0.934\n",
      "F1 score on negative: 0.775\n",
      "\n",
      "Accuracy: 0.898\n",
      "Youden's J statistic: 0.709\n"
     ]
    },
    {
     "data": {
      "text/plain": [
       "0.7092136979114518"
      ]
     },
     "execution_count": 94,
     "metadata": {},
     "output_type": "execute_result"
    }
   ],
   "source": [
    "wpo_weighted_average_predict(slashdot, 0.63, 0.15)"
   ]
  },
  {
   "cell_type": "code",
   "execution_count": 82,
   "metadata": {},
   "outputs": [
    {
     "name": "stdout",
     "output_type": "stream",
     "text": [
      "3\n",
      "TP: 54168\n",
      "TN: 10580\n",
      "FP: 4681\n",
      "FN: 3194\n",
      "\n",
      "Precision on positive: 0.920\n",
      "Recall on positive: 0.944\n",
      "Precision on negative: 0.768\n",
      "Recall on negative: 0.693\n",
      "\n",
      "F1 score on positive: 0.932\n",
      "F1 score on negative: 0.729\n",
      "\n",
      "Accuracy: 0.892\n",
      "Youden's J statistic: 0.661\n"
     ]
    },
    {
     "data": {
      "text/plain": [
       "0.6610109461988123"
      ]
     },
     "execution_count": 82,
     "metadata": {},
     "output_type": "execute_result"
    }
   ],
   "source": [
    "wpo_weighted_average_predict(wikielec, 0.65, 0.7)"
   ]
  },
  {
   "cell_type": "markdown",
   "metadata": {},
   "source": [
    "Extension: use dates exponential"
   ]
  }
 ],
 "metadata": {
  "kernelspec": {
   "display_name": "Python 3",
   "language": "python",
   "name": "python3"
  },
  "language_info": {
   "codemirror_mode": {
    "name": "ipython",
    "version": 3
   },
   "file_extension": ".py",
   "mimetype": "text/x-python",
   "name": "python",
   "nbconvert_exporter": "python",
   "pygments_lexer": "ipython3",
   "version": "3.8.2"
  }
 },
 "nbformat": 4,
 "nbformat_minor": 4
}
